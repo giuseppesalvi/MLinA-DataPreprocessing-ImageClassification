{
  "cells": [
    {
      "cell_type": "markdown",
      "metadata": {
        "id": "view-in-github",
        "colab_type": "text"
      },
      "source": [
        "<a href=\"https://colab.research.google.com/github/giuseppesalvi/MLinA-DataPreprocessing-ImageClassification/blob/main/MLinA_Data_Preprocessing_Image_Classification.ipynb\" target=\"_parent\"><img src=\"https://colab.research.google.com/assets/colab-badge.svg\" alt=\"Open In Colab\"/></a>"
      ]
    },
    {
      "cell_type": "code",
      "execution_count": 1,
      "metadata": {
        "id": "LKTii3t58TDm"
      },
      "outputs": [],
      "source": [
        "# Import libraries\n",
        "import cv2\n",
        "import numpy as np\n",
        "from google.colab.patches import cv2_imshow\n",
        "import glob"
      ]
    },
    {
      "cell_type": "markdown",
      "metadata": {
        "id": "LAjhJAR1fM7K"
      },
      "source": [
        "# Data Loading and Preprocessing"
      ]
    },
    {
      "cell_type": "code",
      "execution_count": 2,
      "metadata": {
        "colab": {
          "base_uri": "https://localhost:8080/"
        },
        "id": "pqkb7CFvUQG4",
        "outputId": "e9ba1cb2-10cb-4bc2-ca36-3497a114d87c"
      },
      "outputs": [
        {
          "output_type": "stream",
          "name": "stdout",
          "text": [
            "/content\n"
          ]
        }
      ],
      "source": [
        "# Load data from my drive into working directory \n",
        "%cd /content\n",
        "!cp -a drive/MyDrive/Datasets/Vane_Roughness /content\n",
        "\n",
        "# Enter in the directory\n",
        "# %cd /content/Vane_Roughness/"
      ]
    },
    {
      "cell_type": "code",
      "execution_count": null,
      "metadata": {
        "id": "vGTCps8a8wHg"
      },
      "outputs": [],
      "source": [
        "# Display all images in the dataset\n",
        "data_path = \"/content/Vane_Roughness/data/*.*\"\n",
        "for file_name in glob.glob(data_path):\n",
        "  print(\"IMAGE: \", file_name)\n",
        "  img = cv2.imread(file_name , cv2.IMREAD_UNCHANGED)\n",
        "  cv2_imshow(img)"
      ]
    },
    {
      "cell_type": "markdown",
      "source": [
        "## Generic Transformations"
      ],
      "metadata": {
        "id": "-ySzMWCzA2kU"
      }
    },
    {
      "cell_type": "code",
      "source": [
        "# Example image:\n",
        "#img = cv2.imread('Vane_Roughness/PowderBed.jpg', cv2.IMREAD_UNCHANGED)\n",
        "\n",
        "\n",
        "def scale(image, factorX, factorY, interpolation=None):\n",
        "  \"\"\" Downscale or upscale the image \n",
        "      fx: scaling factor on x axis\n",
        "      fy: scaling factor on y axis\n",
        "      interpolation: interpolation method\n",
        "  \"\"\"\n",
        "\n",
        "  if interpolation is None:\n",
        "    return cv2.resize(image, None, fx=factorX, fy=factorY)\n",
        "  return cv2.resize(image, None, fx=factorX, fy=factorY, interpolation=interpolation)\n",
        "\n",
        "\n",
        "# Example: \n",
        "#cv2_imshow(img)\n",
        "#scaled_img = scale(img, 0.1, 0.1)\n",
        "#cv2_imshow(scaled_img)\n",
        "\n",
        "\n",
        "def translate(image, offsetX, offsetY):\n",
        "  \"\"\" Translate the image by offsetX on x axis, and by offsetY on y axis \"\"\"\n",
        "\n",
        "  rows,cols = image.shape\n",
        "  M = np.float32([[1,0,offsetX],[0,1,offsetY]])\n",
        "  # Affine transformations are expressed through matrix multiplications\n",
        "  return cv2.warpAffine(image,M,(cols,rows))\n",
        "\n",
        "\n",
        "# Example: translate image by half width and half height\n",
        "#translated_img = translate(img, img.shape[1]/ 2, img.shape[0]/2)\n",
        "#cv2_imshow(translated_img)\n",
        "\n",
        "\n",
        "def rotate(image, degrees):\n",
        "  \"\"\" Rotate the image\n",
        "      degrees: degrees of rotation\n",
        "  \"\"\"\n",
        "  rows,cols = image.shape\n",
        "  M = cv2.getRotationMatrix2D((cols/2,rows/2),degrees,1)\n",
        "  return cv2.warpAffine(image,M,(cols,rows))\n",
        "\n",
        "\n",
        "# Example: rotate image by 90 degrees\n",
        "#rotated_img = rotate(img, 90)\n",
        "#cv2_imshow(rotated_img)\n",
        "\n",
        "\n",
        "def affine_transform(image, pts1, pts2):\n",
        "  \"\"\" Apply an affine transform to the image\n",
        "      It is a transformation that can be expressed in the form of a matrix \n",
        "      multiplication (linear transformation) followed by a vector \n",
        "      addition (translation)\n",
        "      pts1, pts2: points of reference of the input image and the resulting one\n",
        "  \"\"\"\n",
        "\n",
        "  # The matrix is obtained from the relations between three points of the two images\n",
        "  M = cv2.getAffineTransform(pts1,pts2)\n",
        "\n",
        "  rows,cols = image.shape\n",
        "  # Apply the affine transformation to obtain the resulting image\n",
        "  return cv2.warpAffine(image,M,(cols,rows)) \n",
        "\n",
        "\n",
        "# Example: apply affine transformation to an image \n",
        "#pts1 = np.float32([[50,50],[200,50],[50,200]])\n",
        "#pts2 = np.float32([[10,100],[200,50],[100,250]])\n",
        "#aff_trans = affine_transform(img, pts1, pts2)\n",
        "#cv2_imshow(aff_trans)\n",
        "\n",
        "\n",
        "def perspective_transform(image, pts1, pts2):\n",
        "  \"\"\" Apply a perspective transformation to the image\n",
        "    pts1, pts3: points of reference to construct the matrix for the transformation\n",
        "  \"\"\"\n",
        "\n",
        "  M = cv2.getPerspectiveTransform(pts1,pts2)\n",
        "  rows,cols = image.shape\n",
        "  return cv2.warpPerspective(img,M,(cols,rows))\n",
        "\n",
        "\n",
        "# Example: apply perspective transformation to an image \n",
        "#rows,cols = img.shape\n",
        "#pts1 = np.float32([[260,190],[1004,200],[1032,1225],[200,1223]])\n",
        "#pts2 = np.float32([[0,0],[rows,0],[rows,cols],[0,cols]])\n",
        "#pers_trans = perspective_transform(img, pts1, pts2)\n",
        "#cv2_imshow(img)\n",
        "#cv2_imshow(pers_trans) \n",
        "\n"
      ],
      "metadata": {
        "id": "oj-wgQuYAwdn"
      },
      "execution_count": null,
      "outputs": []
    }
  ],
  "metadata": {
    "colab": {
      "collapsed_sections": [],
      "name": "MLinA_Data_Preprocessing_Image_Classification.ipynb",
      "provenance": [],
      "mount_file_id": "1ThCtyxVEuGSmcNZJaVq83i3jvVNW4L-l",
      "authorship_tag": "ABX9TyMja8vh9rgWkKK4pRXJ9R9Y",
      "include_colab_link": true
    },
    "kernelspec": {
      "display_name": "Python 3",
      "name": "python3"
    },
    "language_info": {
      "name": "python"
    }
  },
  "nbformat": 4,
  "nbformat_minor": 0
}